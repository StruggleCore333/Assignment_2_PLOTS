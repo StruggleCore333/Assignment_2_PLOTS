{
 "cells": [
  {
   "cell_type": "markdown",
   "metadata": {},
   "source": []
  },
  {
   "cell_type": "code",
   "execution_count": 1,
   "metadata": {},
   "outputs": [],
   "source": [
    "import pandas as pd\n",
    "import matplotlib.pyplot as plt\n",
    "import plotly.graph_objects as go\n",
    "import networkx as nx\n"
   ]
  },
  {
   "cell_type": "code",
   "execution_count": 2,
   "metadata": {},
   "outputs": [],
   "source": [
    "# Load datasets\n",
    "bar_df = pd.read_csv('bar_assignment.csv')  # Ensure this file is in the same directory\n",
    "sankey_df = pd.read_csv('sankey_assignment.csv')\n",
    "network_df = pd.read_csv('networks_assignment.csv')\n"
   ]
  },
  {
   "cell_type": "code",
   "execution_count": null,
   "metadata": {},
   "outputs": [
    {
     "ename": "NameError",
     "evalue": "name 'sources' is not defined",
     "output_type": "error",
     "traceback": [
      "\u001b[1;31m---------------------------------------------------------------------------\u001b[0m",
      "\u001b[1;31mNameError\u001b[0m                                 Traceback (most recent call last)",
      "Cell \u001b[1;32mIn[2], line 5\u001b[0m\n\u001b[0;32m      2\u001b[0m \u001b[38;5;28;01mimport\u001b[39;00m\u001b[38;5;250m \u001b[39m\u001b[38;5;21;01mplotly\u001b[39;00m\u001b[38;5;21;01m.\u001b[39;00m\u001b[38;5;21;01mgraph_objects\u001b[39;00m\u001b[38;5;250m \u001b[39m\u001b[38;5;28;01mas\u001b[39;00m\u001b[38;5;250m \u001b[39m\u001b[38;5;21;01mgo\u001b[39;00m\n\u001b[0;32m      4\u001b[0m \u001b[38;5;66;03m# Define unique nodes and their indices\u001b[39;00m\n\u001b[1;32m----> 5\u001b[0m unique_nodes \u001b[38;5;241m=\u001b[39m \u001b[38;5;28mlist\u001b[39m(\u001b[38;5;28mset\u001b[39m(\u001b[43msources\u001b[49m \u001b[38;5;241m+\u001b[39m targets))\n\u001b[0;32m      6\u001b[0m node_indices \u001b[38;5;241m=\u001b[39m {node: i \u001b[38;5;28;01mfor\u001b[39;00m i, node \u001b[38;5;129;01min\u001b[39;00m \u001b[38;5;28menumerate\u001b[39m(unique_nodes)}\n\u001b[0;32m      8\u001b[0m \u001b[38;5;66;03m# Create Sankey diagram with better styling\u001b[39;00m\n",
      "\u001b[1;31mNameError\u001b[0m: name 'sources' is not defined"
     ]
    }
   ],
   "source": [
    "# Define sources and targets for Sankey Diagram\n",
    "sources = []\n",
    "targets = []\n",
    "values = []\n",
    "\n",
    "for col in sankey_df.columns[1:-3]:  # Excluding LABEL and the last three columns\n",
    "    for index, row in sankey_df.iterrows():\n",
    "        sources.append(row['LABEL'])\n",
    "        targets.append(col)\n",
    "        values.append(row[col])\n",
    "\n",
    "# Define additional connections for the last three columns\n",
    "for col in sankey_df.columns[-3:]:\n",
    "    for index, row in sankey_df.iterrows():\n",
    "        sources.append(col)\n",
    "        targets.append(row[col])\n",
    "        values.append(1)\n",
    "\n",
    "# Create Sankey Diagram\n",
    "sankey = go.Figure(go.Sankey(\n",
    "    node=dict(label=list(set(sources + targets))),\n",
    "    link=dict(\n",
    "        source=[list(set(sources + targets)).index(s) for s in sources],\n",
    "        target=[list(set(sources + targets)).index(t) for t in targets],\n",
    "        value=values\n",
    "    )\n",
    "))\n",
    "sankey.update_layout(title_text='Sankey Diagram', font_size=10)\n",
    "sankey.show()\n"
   ]
  },
  {
   "cell_type": "code",
   "execution_count": 1,
   "metadata": {},
   "outputs": [
    {
     "ename": "NameError",
     "evalue": "name 'nx' is not defined",
     "output_type": "error",
     "traceback": [
      "\u001b[1;31m---------------------------------------------------------------------------\u001b[0m",
      "\u001b[1;31mNameError\u001b[0m                                 Traceback (most recent call last)",
      "Cell \u001b[1;32mIn[1], line 1\u001b[0m\n\u001b[1;32m----> 1\u001b[0m G \u001b[38;5;241m=\u001b[39m \u001b[43mnx\u001b[49m\u001b[38;5;241m.\u001b[39mGraph()\n\u001b[0;32m      3\u001b[0m \u001b[38;5;66;03m# Add nodes with colors\u001b[39;00m\n\u001b[0;32m      4\u001b[0m node_colors \u001b[38;5;241m=\u001b[39m {}\n",
      "\u001b[1;31mNameError\u001b[0m: name 'nx' is not defined"
     ]
    }
   ],
   "source": [
    "G = nx.Graph()\n",
    "\n",
    "# Add nodes with colors\n",
    "node_colors = {}\n",
    "blue_nodes = {'D', 'F', 'I', 'N', 'S'}\n",
    "green_nodes = {'BIH', 'GEO', 'ISR', 'MNE', 'SRB', 'CHE', 'TUR', 'UKR', 'GBR', 'AUS', 'HKG', 'USA'}\n",
    "yellow_nodes = {'AUT', 'BEL', 'BGR', 'HRV', 'CZE', 'EST', 'FRA', 'DEU', 'GRC', 'HUN', 'IRL', 'ITA', 'LVA', 'LUX', 'NLD', 'PRT', 'ROU', 'SVK', 'SVN', 'ESP'}\n",
    "\n",
    "for node in network_df['LABELS']:\n",
    "    if node in blue_nodes:\n",
    "        node_colors[node] = 'blue'\n",
    "    elif node in green_nodes:\n",
    "        node_colors[node] = 'green'\n",
    "    elif node in yellow_nodes:\n",
    "        node_colors[node] = 'yellow'\n",
    "    else:\n",
    "        node_colors[node] = 'gray'\n",
    "    G.add_node(node, color=node_colors[node])\n",
    "\n",
    "# Add edges\n",
    "for index, row in network_df.iterrows():\n",
    "    for col in network_df.columns[1:]:\n",
    "        if row[col] > 0:\n",
    "            G.add_edge(row['LABELS'], col)\n",
    "\n",
    "# Draw network\n",
    "pos = nx.spring_layout(G)\n",
    "nx.draw(G, pos, with_labels=True, \n",
    "        node_color=[node_colors.get(n, 'gray') for n in G.nodes()],  # Default to gray if missing\n",
    "        edge_color='gray', node_size=500)\n",
    "plt.title('Network Graph')\n",
    "plt.show()\n"
   ]
  },
  {
   "cell_type": "code",
   "execution_count": null,
   "metadata": {},
   "outputs": [],
   "source": [
    "print(\"\\n--- Explanation ---\")\n",
    "print(\"1. The bar chart is a horizontal stacked bar plot that transforms 1/0 into Yes/No.\")\n",
    "print(\"2. The Sankey Diagram connects specific columns to final categories ('Reg', 'Aca', 'Oth').\")\n",
    "print(\"3. The network graph shows central nodes ('D', 'F', 'I', 'N', 'S') in a pentagram with others outside.\")\n",
    "print(\"4. Colors are assigned as per the given specifications.\")\n"
   ]
  }
 ],
 "metadata": {
  "kernelspec": {
   "display_name": "Python 3",
   "language": "python",
   "name": "python3"
  },
  "language_info": {
   "codemirror_mode": {
    "name": "ipython",
    "version": 3
   },
   "file_extension": ".py",
   "mimetype": "text/x-python",
   "name": "python",
   "nbconvert_exporter": "python",
   "pygments_lexer": "ipython3",
   "version": "3.11.9"
  }
 },
 "nbformat": 4,
 "nbformat_minor": 2
}
